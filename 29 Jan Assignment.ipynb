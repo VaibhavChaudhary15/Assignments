{
 "cells": [
  {
   "cell_type": "code",
   "execution_count": 1,
   "id": "96a4d240-93c0-44a5-adc1-470bc2c4c018",
   "metadata": {},
   "outputs": [],
   "source": [
    "#Assignment 1"
   ]
  },
  {
   "cell_type": "code",
   "execution_count": 3,
   "id": "ef5e74a8-aac9-40db-8b64-26d65dc1b835",
   "metadata": {},
   "outputs": [
    {
     "data": {
      "text/plain": [
       "'Ques 1. Who developed python progrmming language?'"
      ]
     },
     "execution_count": 3,
     "metadata": {},
     "output_type": "execute_result"
    }
   ],
   "source": [
    "'''Ques 1. Who developed python progrmming language?\n",
    "\n",
    "Ans. Guido van Rossum in 1991 developed Python Programming Language. '''"
   ]
  },
  {
   "cell_type": "code",
   "execution_count": 4,
   "id": "4df0ec0f-ab5d-45f9-8c12-d699814af2e3",
   "metadata": {},
   "outputs": [
    {
     "data": {
      "text/plain": [
       "'Ans. Guido van Rossum in 1991 developed Python Programming Language'"
      ]
     },
     "execution_count": 4,
     "metadata": {},
     "output_type": "execute_result"
    }
   ],
   "source": [
    "'''Ques 2. Which type of programming does python support?\n",
    "\n",
    "Ans. Python is a multi-paradigm programming language. \n",
    "Object-oriented programming and structured programming are fully supported, \n",
    "and many of their features support functional programming \n",
    "and aspect-oriented programming (including metaprogramming and metaobjects). '''"
   ]
  },
  {
   "cell_type": "code",
   "execution_count": 5,
   "id": "b16e3b5d-e50b-42ca-8b30-21d8ef5209d6",
   "metadata": {},
   "outputs": [
    {
     "data": {
      "text/plain": [
       "'Ques 3. Is pyhton case sensitive when dealing with identifiers?\\n\\nAns.bYes, Python is a case-sensitive language, i.e., it treats uppercase and lowercase characters differently.'"
      ]
     },
     "execution_count": 5,
     "metadata": {},
     "output_type": "execute_result"
    }
   ],
   "source": [
    "'''Ques 3. Is pyhton case sensitive when dealing with identifiers?\n",
    "\n",
    "Ans. Yes, Python is a case-sensitive language, i.e., it treats uppercase and lowercase characters differently. '''"
   ]
  },
  {
   "cell_type": "code",
   "execution_count": 6,
   "id": "4c0f3d85-3b44-4237-9b88-57b44cb1ba85",
   "metadata": {},
   "outputs": [
    {
     "data": {
      "text/plain": [
       "' Ques 4. What is the correct extension of a pyhton file?\\n\\nAns. Python has an extension called (.py). '"
      ]
     },
     "execution_count": 6,
     "metadata": {},
     "output_type": "execute_result"
    }
   ],
   "source": [
    "''' Ques 4. What is the correct extension of a pyhton file?\n",
    "\n",
    "Ans. Python has an extension called (.py). '''"
   ]
  },
  {
   "cell_type": "code",
   "execution_count": 8,
   "id": "267af613-fdf1-4c4e-b461-dff6b82e56b1",
   "metadata": {},
   "outputs": [
    {
     "data": {
      "text/plain": [
       "' Ques 5. Is python code compiled or interpreted?\\n\\nAns. Interpreted '"
      ]
     },
     "execution_count": 8,
     "metadata": {},
     "output_type": "execute_result"
    }
   ],
   "source": [
    "''' Ques 5. Is python code compiled or interpreted?\n",
    "\n",
    "Ans. Interpreted '''"
   ]
  },
  {
   "cell_type": "code",
   "execution_count": 9,
   "id": "d9bd6cca-68f9-4278-8305-273d838af317",
   "metadata": {},
   "outputs": [
    {
     "data": {
      "text/plain": [
       "' Ques 6. Name a few blocks of code used to define in python language?\\n\\nAns. The following are blocks: a module, a function body, and a class definition. '"
      ]
     },
     "execution_count": 9,
     "metadata": {},
     "output_type": "execute_result"
    }
   ],
   "source": [
    "''' Ques 6. Name a few blocks of code used to define in python language?\n",
    "\n",
    "Ans. The following are blocks: a module, a function body, and a class definition. '''"
   ]
  },
  {
   "cell_type": "code",
   "execution_count": 10,
   "id": "080b728a-f655-488e-8325-64c71928239c",
   "metadata": {},
   "outputs": [
    {
     "data": {
      "text/plain": [
       "' Ques 7. State a character used to give single line comments in Python? \\n\\nAns. # character '"
      ]
     },
     "execution_count": 10,
     "metadata": {},
     "output_type": "execute_result"
    }
   ],
   "source": [
    "''' Ques 7. State a character used to give single line comments in Python? \n",
    "\n",
    "Ans. # character '''"
   ]
  },
  {
   "cell_type": "code",
   "execution_count": 11,
   "id": "993a1937-27d5-4430-aa04-1be2d8a6d9f1",
   "metadata": {},
   "outputs": [
    {
     "data": {
      "text/plain": [
       "' Ques 8. Mention function which help us to find the version of python that we are currently working on? \\n\\nAns. The function sys.version can help us to find the version of python that we are currently working on. '"
      ]
     },
     "execution_count": 11,
     "metadata": {},
     "output_type": "execute_result"
    }
   ],
   "source": [
    "''' Ques 8. Mention function which help us to find the version of python that we are currently working on? \n",
    "\n",
    "Ans. The function sys.version can help us to find the version of python that we are currently working on. '''"
   ]
  },
  {
   "cell_type": "code",
   "execution_count": 12,
   "id": "9b1e784b-82cf-4fad-a79d-0edbdf108299",
   "metadata": {},
   "outputs": [
    {
     "data": {
      "text/plain": [
       "' Ques 9. Python supports the creation of anonymous functions at runtime, using a construct called ____?\\n\\nAns. Lambda '"
      ]
     },
     "execution_count": 12,
     "metadata": {},
     "output_type": "execute_result"
    }
   ],
   "source": [
    "''' Ques 9. Python supports the creation of anonymous functions at runtime, using a construct called ____?\n",
    "\n",
    "Ans. Lambda '''"
   ]
  },
  {
   "cell_type": "code",
   "execution_count": 13,
   "id": "c3422808-0707-421c-80ef-0e29c02b68f2",
   "metadata": {},
   "outputs": [
    {
     "data": {
      "text/plain": [
       "' Ques 10. what does pip stands for python? \\n\\nAns. pip stands for \"preferred installer program\". '"
      ]
     },
     "execution_count": 13,
     "metadata": {},
     "output_type": "execute_result"
    }
   ],
   "source": [
    "''' Ques 10. what does pip stands for python? \n",
    "\n",
    "Ans. pip stands for \"preferred installer program\". '''"
   ]
  },
  {
   "cell_type": "code",
   "execution_count": 14,
   "id": "7b97a379-c7db-4b3e-9fba-f03775e2e6dd",
   "metadata": {},
   "outputs": [
    {
     "data": {
      "text/plain": [
       "' Ques 11. Mention a few built-in functions in python ?\\n\\nAns. print(), type(), input() etc. '"
      ]
     },
     "execution_count": 14,
     "metadata": {},
     "output_type": "execute_result"
    }
   ],
   "source": [
    "''' Ques 11. Mention a few built-in functions in python?\n",
    "\n",
    "Ans. print(), type(), input() etc. '''"
   ]
  },
  {
   "cell_type": "code",
   "execution_count": 15,
   "id": "cbef78ee-67be-4afc-aaa6-8388a150bbbe",
   "metadata": {},
   "outputs": [
    {
     "data": {
      "text/plain": [
       "' Ques 12. What is the maximum possible length of an identifier in python?\\n\\nAns. An identifier can have a maximum length of 79 characters in Python. '"
      ]
     },
     "execution_count": 15,
     "metadata": {},
     "output_type": "execute_result"
    }
   ],
   "source": [
    "''' Ques 12. What is the maximum possible length of an identifier in python?\n",
    "\n",
    "Ans. An identifier can have a maximum length of 79 characters in Python. '''"
   ]
  },
  {
   "cell_type": "code",
   "execution_count": 16,
   "id": "d52df2a7-fbb1-4a52-bd99-d88759b4adee",
   "metadata": {},
   "outputs": [
    {
     "data": {
      "text/plain": [
       "' Ques 13. What are the benefits of using Python?\\n\\nAns. Python is commonly used for developing websites and software, task automation, \\ndata analysis, and data visualization. '"
      ]
     },
     "execution_count": 16,
     "metadata": {},
     "output_type": "execute_result"
    }
   ],
   "source": [
    "''' Ques 13. What are the benefits of using Python?\n",
    "\n",
    "Ans. Python is commonly used for developing websites and software, task automation, \n",
    "data analysis, and data visualization. '''"
   ]
  },
  {
   "cell_type": "code",
   "execution_count": 17,
   "id": "9dc42700-11c4-4113-bc9c-adda4c114ee3",
   "metadata": {},
   "outputs": [
    {
     "data": {
      "text/plain": [
       "' Ques 14. How is memory managed in Pyhton? \\n\\nAns. Memory management in Python involves a private heap containing all Python objects and data structures. '"
      ]
     },
     "execution_count": 17,
     "metadata": {},
     "output_type": "execute_result"
    }
   ],
   "source": [
    "''' Ques 14. How is memory managed in Pyhton? \n",
    "\n",
    "Ans. Memory management in Python involves a private heap containing all Python objects and data structures. '''"
   ]
  },
  {
   "cell_type": "code",
   "execution_count": 18,
   "id": "4e3132b6-2682-4613-b5f2-f67ee2423cf5",
   "metadata": {},
   "outputs": [
    {
     "data": {
      "text/plain": [
       "' Ques 15. How to install python on windows and set path variables?\\n\\nAns. To install python open a browser to the Python website and download the Windows installer. \\n 2. Double click on the downloaded file and install Python for all users, \\n and ensure that Python is added to your path. Click on Install now to begin.\\n \\nThe complete path of python.exe can be added by: \\n\\n1. Right-clicking This PC and going to Properties.\\n2. Clicking on the Advanced system settings in the menu on the left.\\n3. Clicking on the Environment Variables button o\\u200bn the bottom right.\\n4. In the System variables section, selecting the Path variable and clicking on Edit. '"
      ]
     },
     "execution_count": 18,
     "metadata": {},
     "output_type": "execute_result"
    }
   ],
   "source": [
    "''' Ques 15. How to install python on windows and set path variables?\n",
    "\n",
    "Ans. To install python open a browser to the Python website and download the Windows installer. \n",
    " 2. Double click on the downloaded file and install Python for all users, \n",
    " and ensure that Python is added to your path. Click on Install now to begin.\n",
    " \n",
    "The complete path of python.exe can be added by: \n",
    "\n",
    "1. Right-clicking This PC and going to Properties.\n",
    "2. Clicking on the Advanced system settings in the menu on the left.\n",
    "3. Clicking on the Environment Variables button o​n the bottom right.\n",
    "4. In the System variables section, selecting the Path variable and clicking on Edit. '''"
   ]
  },
  {
   "cell_type": "code",
   "execution_count": null,
   "id": "e51e885f-37c1-4a25-a23e-82ae19ccfd79",
   "metadata": {},
   "outputs": [],
   "source": [
    "''' Ques 16. Is identation required in Python?\n",
    "\n",
    "Ans. Yes '''"
   ]
  }
 ],
 "metadata": {
  "kernelspec": {
   "display_name": "Python 3 (ipykernel)",
   "language": "python",
   "name": "python3"
  },
  "language_info": {
   "codemirror_mode": {
    "name": "ipython",
    "version": 3
   },
   "file_extension": ".py",
   "mimetype": "text/x-python",
   "name": "python",
   "nbconvert_exporter": "python",
   "pygments_lexer": "ipython3",
   "version": "3.10.8"
  }
 },
 "nbformat": 4,
 "nbformat_minor": 5
}
