{
 "cells": [
  {
   "cell_type": "code",
   "execution_count": 1,
   "id": "1010015f-d9e0-4ea5-aa7a-f3ff83f90c73",
   "metadata": {},
   "outputs": [],
   "source": [
    "#Assignment 6"
   ]
  },
  {
   "cell_type": "code",
   "execution_count": 2,
   "id": "9ded6193-7010-49cc-898a-307178fa7e7b",
   "metadata": {},
   "outputs": [
    {
     "data": {
      "text/plain": [
       "' Ques 1. Explain Class and Object with respect to Object-Oriented Programming. Give a suitable example.\\n\\nAns. A class is a user-defined blueprint or prototype from which objects are created, \\nwhile an Object is an instance of a Class.\\n\\nExample -  We can think of the class as a sketch (prototype) of a house. \\nIt contains all the details about the floors, doors, windows, etc. Based on these descriptions we build the house. \\nHouse is the object.\\n\\nSince many houses can be made from the same description, we can create many objects from a class.'"
      ]
     },
     "execution_count": 2,
     "metadata": {},
     "output_type": "execute_result"
    }
   ],
   "source": [
    "''' Ques 1. Explain Class and Object with respect to Object-Oriented Programming. Give a suitable example.\n",
    "\n",
    "Ans. A class is a user-defined blueprint or prototype from which objects are created, \n",
    "while an Object is an instance of a Class.\n",
    "\n",
    "Example -  We can think of the class as a sketch (prototype) of a house. \n",
    "It contains all the details about the floors, doors, windows, etc. Based on these descriptions we build the house. \n",
    "House is the object.\n",
    "\n",
    "Since many houses can be made from the same description, we can create many objects from a class.'''"
   ]
  },
  {
   "cell_type": "code",
   "execution_count": 3,
   "id": "a0aa48a8-dd4a-447c-a567-11bd2be5d611",
   "metadata": {},
   "outputs": [
    {
     "data": {
      "text/plain": [
       "' Ques 2. Name the four pillars of OOPs.\\n\\nAns. The four pillars are Inheritance, Polymorphism, Encapsulation and Abstraction. '"
      ]
     },
     "execution_count": 3,
     "metadata": {},
     "output_type": "execute_result"
    }
   ],
   "source": [
    "''' Ques 2. Name the four pillars of OOPs.\n",
    "\n",
    "Ans. The four pillars are Inheritance, Polymorphism, Encapsulation and Abstraction. '''"
   ]
  },
  {
   "cell_type": "code",
   "execution_count": 13,
   "id": "48691ccd-0ea9-45de-94e0-fc564d3f21a2",
   "metadata": {},
   "outputs": [
    {
     "name": "stdout",
     "output_type": "stream",
     "text": [
      "Hello, my name is Vaibhav\n"
     ]
    }
   ],
   "source": [
    "''' Ques 3. Explain why the __init__() function is used. Give a suitable example.\n",
    "\n",
    "Ans. __init__ Constructor in Python. Constructors are used to initializing the object’s state. \n",
    "The task of constructors is to initialize(assign values)\n",
    "to the data members of the class when an object of the class is created.  '''\n",
    "\n",
    "\"Example-\"\n",
    "class Person:\n",
    "    def __init__(self, name):\n",
    "        self.name = name\n",
    " \n",
    "    \n",
    "    def say_hi(self):\n",
    "        print('Hello, my name is', self.name)\n",
    " \n",
    " \n",
    "p = Person('Vaibhav')\n",
    "p.say_hi()"
   ]
  },
  {
   "cell_type": "code",
   "execution_count": 14,
   "id": "fa3383c7-a6ae-44f0-afb5-8a58dd8acab5",
   "metadata": {},
   "outputs": [
    {
     "data": {
      "text/plain": [
       "' Ques 4. Why self is used in OOPs?\\n\\nAns. The self variable is used to represent the instance of the class. \\nIt works as a reference to the object. \\nPython uses the self parameter to refer to instance attributes and methods of the class. '"
      ]
     },
     "execution_count": 14,
     "metadata": {},
     "output_type": "execute_result"
    }
   ],
   "source": [
    "''' Ques 4. Why self is used in OOPs?\n",
    "\n",
    "Ans. The self variable is used to represent the instance of the class. \n",
    "It works as a reference to the object. \n",
    "Python uses the self parameter to refer to instance attributes and methods of the class. '''"
   ]
  },
  {
   "cell_type": "code",
   "execution_count": 15,
   "id": "982e6d07-aaae-4888-9901-0350a52ebf08",
   "metadata": {},
   "outputs": [
    {
     "data": {
      "text/plain": [
       "' Ques 5. What is inheritance? Give an example for each type of inheritance.\\n\\nAns. Inheritance is a mechanism that allows you to create a hierarchy of classes that share a \\nset of properties and methods by deriving a class from another class. \\nInheritance is the capability of one class to derive or inherit the properties from another class. \\n\\nDifferent types of Inheritance:\\n\\nSingle inheritance: When a child class inherits from only one parent class, it is called single inheritance.\\nExample-  Subclass called Cat that inherits the attributes and methods of the base class Pet.\\n\\nMultiple inheritances: When a child class inherits from multiple parent classes.\\nExample- We have classes Pets and Wild animals and derived class would be Exotic animals, \\nwhich inherits properties from both.\\n\\nMultilevel Inheritance: In a multilevel inheritance model a derived class inherits another derived class.\\nExample - We have a class Pets, derived class would be Mammals and Mammals derived class would be cats.\\n\\nHierarchical Inheritance: If more than one derived class is created from a single base class.\\nExample- we have a class Pets and derived classes from Pets are Cats, dogs and cow.\\n\\nHybrid Inheritance: When inheritance consists of multiple combinations of different inheritance models.\\nExample- We have a Parent class as Pets and derived classes would be dog and cats \\nbut wild cat only inherit propeties from pets and cats. '"
      ]
     },
     "execution_count": 15,
     "metadata": {},
     "output_type": "execute_result"
    }
   ],
   "source": [
    "''' Ques 5. What is inheritance? Give an example for each type of inheritance.\n",
    "\n",
    "Ans. Inheritance is a mechanism that allows you to create a hierarchy of classes that share a \n",
    "set of properties and methods by deriving a class from another class. \n",
    "Inheritance is the capability of one class to derive or inherit the properties from another class. \n",
    "\n",
    "Different types of Inheritance:\n",
    "\n",
    "Single inheritance: When a child class inherits from only one parent class, it is called single inheritance.\n",
    "Example-  Subclass called Cat that inherits the attributes and methods of the base class Pet.\n",
    "\n",
    "Multiple inheritances: When a child class inherits from multiple parent classes.\n",
    "Example- We have classes Pets and Wild animals and derived class would be Exotic animals, \n",
    "which inherits properties from both.\n",
    "\n",
    "Multilevel Inheritance: In a multilevel inheritance model a derived class inherits another derived class.\n",
    "Example - We have a class Pets, derived class would be Mammals and Mammals derived class would be cats.\n",
    "\n",
    "Hierarchical Inheritance: If more than one derived class is created from a single base class.\n",
    "Example- we have a class Pets and derived classes from Pets are Cats, dogs and cow.\n",
    "\n",
    "Hybrid Inheritance: When inheritance consists of multiple combinations of different inheritance models.\n",
    "Example- We have a Parent class as Pets and derived classes would be dog and cats \n",
    "but wild cat only inherit propeties from pets and cats. '''               "
   ]
  },
  {
   "cell_type": "code",
   "execution_count": null,
   "id": "917bbce5-7b0c-41d8-87b5-6e6118cd5acb",
   "metadata": {},
   "outputs": [],
   "source": []
  }
 ],
 "metadata": {
  "kernelspec": {
   "display_name": "Python 3 (ipykernel)",
   "language": "python",
   "name": "python3"
  },
  "language_info": {
   "codemirror_mode": {
    "name": "ipython",
    "version": 3
   },
   "file_extension": ".py",
   "mimetype": "text/x-python",
   "name": "python",
   "nbconvert_exporter": "python",
   "pygments_lexer": "ipython3",
   "version": "3.10.8"
  }
 },
 "nbformat": 4,
 "nbformat_minor": 5
}
