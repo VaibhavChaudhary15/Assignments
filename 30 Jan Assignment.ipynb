{
 "cells": [
  {
   "cell_type": "code",
   "execution_count": 1,
   "id": "8919e66c-a89a-4ed2-86fc-23dab1c288b6",
   "metadata": {},
   "outputs": [],
   "source": [
    "# Assignment 2"
   ]
  },
  {
   "cell_type": "code",
   "execution_count": 2,
   "id": "e86652d6-f17a-4859-8f46-e2934a51bde7",
   "metadata": {},
   "outputs": [
    {
     "data": {
      "text/plain": [
       "' Ques 1. Write a program to accept percentage from the user and display the grade \\naccording the following criteria:\\n\\nMarks           Grade\\n>90               A\\n>80 and <=90      B\\n>=60 and <=80     C\\nbelow 60          D '"
      ]
     },
     "execution_count": 2,
     "metadata": {},
     "output_type": "execute_result"
    }
   ],
   "source": [
    "''' Ques 1. Write a program to accept percentage from the user and display the grade \n",
    "according the following criteria:\n",
    "\n",
    "Marks           Grade\n",
    ">90               A\n",
    ">80 and <=90      B\n",
    ">=60 and <=80     C\n",
    "below 60          D '''"
   ]
  },
  {
   "cell_type": "code",
   "execution_count": 18,
   "id": "753f2f0b-5da4-468e-bcd5-2502767980ec",
   "metadata": {},
   "outputs": [
    {
     "name": "stdin",
     "output_type": "stream",
     "text": [
      "Enter Your Percentage 59\n"
     ]
    },
    {
     "name": "stdout",
     "output_type": "stream",
     "text": [
      "Your Grade is D\n"
     ]
    }
   ],
   "source": [
    "percentage = int(input(\"Enter Your Percentage\"))\n",
    "if percentage>90 :\n",
    "    print(\"Your grade is A\")\n",
    "elif percentage >80 and percentage <=90 :\n",
    "    print(\"Your grade is B\")\n",
    "elif percentage >=60 and percentage <=80 :\n",
    "    print(\"Your grade is C\")\n",
    "else :\n",
    "    print(\"Your Grade is D\")"
   ]
  },
  {
   "cell_type": "code",
   "execution_count": 19,
   "id": "8317bd68-175f-4ad2-ba91-497b3ead5e90",
   "metadata": {},
   "outputs": [
    {
     "data": {
      "text/plain": [
       "' Ques 2. Write a program to accept the cost price of bike and display the road tax to be paid \\naccording to the following criteria:\\n\\nTax        Cost Price(in Rs)\\n15%           >100000\\n10%       >50000 and <=100000\\n5%            <=50000 '"
      ]
     },
     "execution_count": 19,
     "metadata": {},
     "output_type": "execute_result"
    }
   ],
   "source": [
    "''' Ques 2. Write a program to accept the cost price of bike and display the road tax to be paid \n",
    "according to the following criteria:\n",
    "\n",
    "Tax        Cost Price(in Rs)\n",
    "15%           >100000\n",
    "10%       >50000 and <=100000\n",
    "5%            <=50000 '''"
   ]
  },
  {
   "cell_type": "code",
   "execution_count": 24,
   "id": "8c5041b6-7d2c-48d2-b71b-5e660fc5e16a",
   "metadata": {},
   "outputs": [
    {
     "name": "stdin",
     "output_type": "stream",
     "text": [
      "Please enter the price of bike 8000\n"
     ]
    },
    {
     "name": "stdout",
     "output_type": "stream",
     "text": [
      "Your road tax is 5%\n"
     ]
    }
   ],
   "source": [
    "cost_price = int(input(\"Please enter the price of bike\"))\n",
    "if cost_price>100000 :\n",
    "    print (\" Your road tax is 15%\")\n",
    "elif cost_price> 50000 and cost_price<= 100000 :\n",
    "    print (\" Your road tax is 10%\")\n",
    "else :\n",
    "    print (\"Your road tax is 5%\")"
   ]
  },
  {
   "cell_type": "code",
   "execution_count": 25,
   "id": "7bcb469a-620d-4aed-9db4-d234231b0df9",
   "metadata": {},
   "outputs": [
    {
     "data": {
      "text/plain": [
       "'Ques 3. Accept any city from the user and display monuments of that city.\\n\\nCity     Monument\\nDelhi    Red Fort\\nAgra     Taj Mahal\\nJaipur   Jal Mahal '"
      ]
     },
     "execution_count": 25,
     "metadata": {},
     "output_type": "execute_result"
    }
   ],
   "source": [
    "'''Ques 3. Accept any city from the user and display monuments of that city.\n",
    "\n",
    "City     Monument\n",
    "Delhi    Red Fort\n",
    "Agra     Taj Mahal\n",
    "Jaipur   Jal Mahal '''"
   ]
  },
  {
   "cell_type": "code",
   "execution_count": 30,
   "id": "5d8dcf69-7d02-4e2f-ad2e-2fdbc3cef4b2",
   "metadata": {},
   "outputs": [
    {
     "name": "stdin",
     "output_type": "stream",
     "text": [
      "Please enter any city name from Delhi, Agra or Jaipur Delhi\n"
     ]
    },
    {
     "name": "stdout",
     "output_type": "stream",
     "text": [
      " Delhi has Red Fort\n"
     ]
    }
   ],
   "source": [
    "city = input(\"Please enter any city name from Delhi, Agra or Jaipur\")\n",
    "if city==\"Delhi\" :\n",
    "    print(\" Delhi has Red Fort\")\n",
    "elif city==\"Agra\" :\n",
    "    print(\" Agra has Taj Mahal\")\n",
    "elif city==\"Jaipur\" :\n",
    "    print(\"Jaipur has Jal Mahal\")\n",
    "else :\n",
    "    print(\" Please entry city name from given list \")\n"
   ]
  },
  {
   "cell_type": "code",
   "execution_count": 31,
   "id": "a24fb825-a670-4cd6-a4b0-04208957cf13",
   "metadata": {},
   "outputs": [
    {
     "data": {
      "text/plain": [
       "' Ques 4. Check how many times a given number can be divided by 3 before it is less than or equal to 10. '"
      ]
     },
     "execution_count": 31,
     "metadata": {},
     "output_type": "execute_result"
    }
   ],
   "source": [
    "''' Ques 4. Check how many times a given number can be divided by 3 before it is less than or equal to 10. '''"
   ]
  },
  {
   "cell_type": "code",
   "execution_count": 3,
   "id": "90246858-ee8e-4808-b266-3e958b7c58b7",
   "metadata": {},
   "outputs": [
    {
     "name": "stdin",
     "output_type": "stream",
     "text": [
      "please enter the number 90\n"
     ]
    },
    {
     "name": "stdout",
     "output_type": "stream",
     "text": [
      "Number can be divided: 3\n"
     ]
    }
   ],
   "source": [
    "number = int(input(\"please enter the number\"))\n",
    "count = 0\n",
    "\n",
    "while (number>=10):\n",
    "    count = count + 1\n",
    "    number = number/3\n",
    "\n",
    "print (\"Number can be divided:\", count)"
   ]
  },
  {
   "cell_type": "code",
   "execution_count": 5,
   "id": "8372a145-3d94-45c4-9ce1-0b17a695fc45",
   "metadata": {},
   "outputs": [
    {
     "name": "stdout",
     "output_type": "stream",
     "text": [
      "1\n",
      "2\n",
      "3\n",
      "4\n",
      "5\n"
     ]
    }
   ],
   "source": [
    "'''  Ques 5. Why and when to use while loop in python give a detailed description with example. \n",
    "\n",
    "Ans. while loop is used to run a block code until a certain condition is met. \n",
    "\n",
    "Example:- '''\n",
    "i = 1\n",
    "n = 5\n",
    "while i <= n:\n",
    "    print(i)\n",
    "    i = i + 1"
   ]
  },
  {
   "cell_type": "code",
   "execution_count": 6,
   "id": "0a6a26c1-0481-4b29-a869-7087511e54ed",
   "metadata": {},
   "outputs": [
    {
     "data": {
      "text/plain": [
       "' Ques 6. Use nested while loop to print three different patterns. '"
      ]
     },
     "execution_count": 6,
     "metadata": {},
     "output_type": "execute_result"
    }
   ],
   "source": [
    "''' Ques 6. Use nested while loop to print three different patterns. '''"
   ]
  },
  {
   "cell_type": "code",
   "execution_count": 7,
   "id": "24ee2a41-c11c-4d8a-aa1f-fec688f6ff76",
   "metadata": {},
   "outputs": [
    {
     "name": "stdin",
     "output_type": "stream",
     "text": [
      "Enter number of rows :  8\n"
     ]
    },
    {
     "name": "stdout",
     "output_type": "stream",
     "text": [
      "* \n",
      "* * \n",
      "* * * \n",
      "* * * * \n",
      "* * * * * \n",
      "* * * * * * \n",
      "* * * * * * * \n",
      "* * * * * * * * \n"
     ]
    }
   ],
   "source": [
    "n = int(input('Enter number of rows : '))\n",
    " \n",
    "i = 1\n",
    "while i <= n :\n",
    "    j = 1\n",
    "    while j <= i:\n",
    "        print(\"*\", end = \" \")\n",
    "        j += 1\n",
    "    print()\n",
    "    i += 1"
   ]
  },
  {
   "cell_type": "code",
   "execution_count": 8,
   "id": "77e80a45-b7fc-4755-a55b-0a8983368072",
   "metadata": {},
   "outputs": [
    {
     "name": "stdin",
     "output_type": "stream",
     "text": [
      "Enter number of rows :  6\n"
     ]
    },
    {
     "name": "stdout",
     "output_type": "stream",
     "text": [
      "* * * * * * \n",
      "* * * * * \n",
      "* * * * \n",
      "* * * \n",
      "* * \n",
      "* \n"
     ]
    }
   ],
   "source": [
    "n = int(input('Enter number of rows : '))\n",
    " \n",
    "i = 1\n",
    "while i <= n :\n",
    "    j = n\n",
    "    while j >= i:\n",
    "        print(\"*\", end = \" \")\n",
    "        j -= 1\n",
    "    print()\n",
    "    i += 1"
   ]
  },
  {
   "cell_type": "code",
   "execution_count": 9,
   "id": "424f2f2c-0844-460d-a41e-800bc6979882",
   "metadata": {},
   "outputs": [
    {
     "name": "stdin",
     "output_type": "stream",
     "text": [
      "Enter number of rows :  4\n"
     ]
    },
    {
     "name": "stdout",
     "output_type": "stream",
     "text": [
      "  1 \n",
      "  2   3 \n",
      "  4   5   6 \n",
      "  7   8   9  10 \n"
     ]
    }
   ],
   "source": [
    "n = int(input('Enter number of rows : '))\n",
    " \n",
    "k = 1\n",
    "i = 1\n",
    "while i <= n :\n",
    "    j = 1\n",
    "    while j <= i:\n",
    "        print(\"{:3d}\".format(k), end = \" \")\n",
    "        j += 1\n",
    "        k += 1\n",
    "    print()\n",
    "    i += 1"
   ]
  },
  {
   "cell_type": "code",
   "execution_count": 1,
   "id": "60a1a79e-07d3-4a99-b87c-ee3fcb5b43c1",
   "metadata": {},
   "outputs": [
    {
     "data": {
      "text/plain": [
       "' Ques 7. Reverse a while loop to display numbers from 10 to 1. '"
      ]
     },
     "execution_count": 1,
     "metadata": {},
     "output_type": "execute_result"
    }
   ],
   "source": [
    "''' Ques 7. Reverse a while loop to display numbers from 10 to 1. '''"
   ]
  },
  {
   "cell_type": "code",
   "execution_count": 2,
   "id": "37bdb57d-57b1-4705-9df8-72292ca6b68d",
   "metadata": {},
   "outputs": [
    {
     "name": "stdout",
     "output_type": "stream",
     "text": [
      "10\n",
      "9\n",
      "8\n",
      "7\n",
      "6\n",
      "5\n",
      "4\n",
      "3\n",
      "2\n",
      "1\n"
     ]
    }
   ],
   "source": [
    "i = 10\n",
    "while i > 0:\n",
    "    print(i)\n",
    "    i = i - 1"
   ]
  },
  {
   "cell_type": "code",
   "execution_count": null,
   "id": "215b5aac-6b8f-4cee-9e5f-8f4a5d33268c",
   "metadata": {},
   "outputs": [],
   "source": [
    "''' Ques 7. and Ques 8. are exactly same. '''"
   ]
  }
 ],
 "metadata": {
  "kernelspec": {
   "display_name": "Python 3 (ipykernel)",
   "language": "python",
   "name": "python3"
  },
  "language_info": {
   "codemirror_mode": {
    "name": "ipython",
    "version": 3
   },
   "file_extension": ".py",
   "mimetype": "text/x-python",
   "name": "python",
   "nbconvert_exporter": "python",
   "pygments_lexer": "ipython3",
   "version": "3.10.8"
  }
 },
 "nbformat": 4,
 "nbformat_minor": 5
}
