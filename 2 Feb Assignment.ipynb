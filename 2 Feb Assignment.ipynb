{
 "cells": [
  {
   "cell_type": "code",
   "execution_count": 1,
   "id": "163aadd3-e691-4541-b04e-b97455736aec",
   "metadata": {},
   "outputs": [],
   "source": [
    "# Assignment 3"
   ]
  },
  {
   "cell_type": "code",
   "execution_count": 2,
   "id": "1a531ebe-6313-450e-88b8-7a2314c5087e",
   "metadata": {},
   "outputs": [
    {
     "data": {
      "text/plain": [
       "' Ques 1. Explain with an example each when to use a for loop and a while loop. \\n\\nAns. A for loop is a control flow statement that executes code repeatedly for \\na particular number of iterations.\\n\\nA While loop executes a single statement or a group of statements for the given true condition.'"
      ]
     },
     "execution_count": 2,
     "metadata": {},
     "output_type": "execute_result"
    }
   ],
   "source": [
    "''' Ques 1. Explain with an example each when to use a for loop and a while loop. \n",
    "\n",
    "Ans. A for loop is a control flow statement that executes code repeatedly for \n",
    "a particular number of iterations.\n",
    "\n",
    "A While loop executes a single statement or a group of statements for the given true condition.'''"
   ]
  },
  {
   "cell_type": "code",
   "execution_count": 4,
   "id": "37a93b1a-46e3-4746-b6ae-4e32519fa6cb",
   "metadata": {},
   "outputs": [
    {
     "name": "stdout",
     "output_type": "stream",
     "text": [
      "1\n",
      "2\n",
      "3\n"
     ]
    }
   ],
   "source": [
    "# Example- For loop\n",
    "n = [1, 2, 3]\n",
    "for i in n:\n",
    "    print (i)"
   ]
  },
  {
   "cell_type": "code",
   "execution_count": 8,
   "id": "bf26c332-ff31-4e00-bd80-225dc530de3a",
   "metadata": {},
   "outputs": [
    {
     "name": "stdout",
     "output_type": "stream",
     "text": [
      "3\n",
      "2\n",
      "1\n"
     ]
    }
   ],
   "source": [
    "# Example- While loop\n",
    "i=3\n",
    "while i>0:\n",
    "    print (i)\n",
    "    i = i-1"
   ]
  },
  {
   "cell_type": "code",
   "execution_count": null,
   "id": "505fd700-e321-46e1-afa5-73e241846580",
   "metadata": {},
   "outputs": [
    {
     "data": {
      "text/plain": [
       "' Ques 2. Write a python program to print the sum and product of the first 10 natural numbers using for \\nand while loop.'"
      ]
     },
     "execution_count": 5,
     "metadata": {},
     "output_type": "execute_result"
    }
   ],
   "source": [
    "''' Ques 2. Write a python program to print the sum and product of the first 10 natural numbers using for \n",
    "and while loop.'''"
   ]
  },
  {
   "cell_type": "code",
   "execution_count": null,
   "id": "774f32a1-ca78-4505-9054-a9ceb69278b4",
   "metadata": {},
   "outputs": [
    {
     "name": "stdout",
     "output_type": "stream",
     "text": [
      "Sum of first 10 natural numbers is:  55\n",
      "Product to  first 10 natural numbers is:  3628800\n"
     ]
    }
   ],
   "source": [
    "i = 1\n",
    "sum_nat = 0\n",
    "prod_nat = 1\n",
    "while i <= 10:\n",
    "    sum_nat = i + sum_nat\n",
    "    prod_nat = i * prod_nat\n",
    "    i += 1\n",
    "    \n",
    "print(\"Sum of first 10 natural numbers is: \", sum_nat)\n",
    "print(\"Product to  first 10 natural numbers is: \", prod_nat)"
   ]
  },
  {
   "cell_type": "code",
   "execution_count": 13,
   "id": "bb71530a-0555-41fd-b216-043ef212bcae",
   "metadata": {},
   "outputs": [
    {
     "name": "stdout",
     "output_type": "stream",
     "text": [
      "Sum of first 10 natural numbers is:  55\n",
      "Product to  first 10 natural numbers is:  3628800\n"
     ]
    }
   ],
   "source": [
    "l = [1, 2, 3, 4, 5, 6, 7, 8, 9, 10]\n",
    "sum_nat = 0\n",
    "prod_nat = 1\n",
    "for i in l:\n",
    "    sum_nat = i + sum_nat\n",
    "    prod_nat = i * prod_nat\n",
    "    \n",
    "print(\"Sum of first 10 natural numbers is: \", sum_nat)\n",
    "print(\"Product to  first 10 natural numbers is: \", prod_nat)"
   ]
  },
  {
   "cell_type": "code",
   "execution_count": 15,
   "id": "19fca19a-4c78-43a5-8727-8b423644b3b9",
   "metadata": {},
   "outputs": [
    {
     "data": {
      "text/plain": [
       "' Ques 3. Create a python program to compute the electricity bill for a household.\\n\\nThe per-unit charges in rupees are as follows: For the first 100 units, the user will be charged Rs. 4.5 per \\nunit, for the next 100 units, the user will be charged Rs. 6 per unit, and for the next 100 units, the user will \\nbe charged Rs. 10 per unit, After 300 units and above the user will be charged Rs. 20 per unit.\\n\\n\\nYou are required to take the units of electricity consumed in a month from the user as input.\\n\\n\\nYour program must pass this test case: when the unit of electricity consumed by the user in a month is \\n310, the total electricity bill should be 2250. '"
      ]
     },
     "execution_count": 15,
     "metadata": {},
     "output_type": "execute_result"
    }
   ],
   "source": [
    "''' Ques 3. Create a python program to compute the electricity bill for a household.\n",
    "\n",
    "The per-unit charges in rupees are as follows: For the first 100 units, the user will be charged Rs. 4.5 per \n",
    "unit, for the next 100 units, the user will be charged Rs. 6 per unit, and for the next 100 units, the user will \n",
    "be charged Rs. 10 per unit, After 300 units and above the user will be charged Rs. 20 per unit.\n",
    "\n",
    "\n",
    "You are required to take the units of electricity consumed in a month from the user as input.\n",
    "\n",
    "\n",
    "Your program must pass this test case: when the unit of electricity consumed by the user in a month is \n",
    "310, the total electricity bill should be 2250. '''"
   ]
  },
  {
   "cell_type": "code",
   "execution_count": 43,
   "id": "aa6a0ae0-f4fe-4b36-8443-6319b218b6dd",
   "metadata": {},
   "outputs": [
    {
     "name": "stdin",
     "output_type": "stream",
     "text": [
      " Enter the number of the units consumed in a month:  310\n"
     ]
    },
    {
     "name": "stdout",
     "output_type": "stream",
     "text": [
      " Your total electricity bill is Rs. 2250\n"
     ]
    }
   ],
   "source": [
    "units = int(input(\" Enter the number of the units consumed in a month: \"))\n",
    "if units<= 100:\n",
    "    bill = 4.5*units\n",
    "elif units<=200 :\n",
    "    bill = 450 + (units-100)*6\n",
    "elif units<=300 :\n",
    "    bill = 450 + 600 + (units-200)*10\n",
    "elif units> 300: \n",
    "    bill = 450 +600 +1000 + (units-300)*20\n",
    "            \n",
    "print (\" Your total electricity bill is Rs.\", bill )"
   ]
  },
  {
   "cell_type": "code",
   "execution_count": null,
   "id": "6fb73179-1581-41b8-8869-283f59357efc",
   "metadata": {},
   "outputs": [],
   "source": [
    "''' Ques 4.  Create a list of numbers from 1 to 100. Use for loop and while loop to calculate the cube of each \n",
    "number and if the cube of that number is divisible by 4 or 5 then append that number in a list and print \n",
    "that list. '''"
   ]
  },
  {
   "cell_type": "code",
   "execution_count": 4,
   "id": "062a6fbe-b7d4-4c33-9277-87eea6d6ef12",
   "metadata": {},
   "outputs": [
    {
     "name": "stdout",
     "output_type": "stream",
     "text": [
      "[8, 64, 125, 216, 512, 1000, 1728, 2744, 3375, 4096, 5832, 8000, 10648, 13824, 15625, 17576, 21952, 27000, 32768, 39304, 42875, 46656, 54872, 64000, 74088, 85184, 91125, 97336, 110592, 125000, 140608, 157464, 166375, 175616, 195112, 216000, 238328, 262144, 274625, 287496, 314432, 343000, 373248, 405224, 421875, 438976, 474552, 512000, 551368, 592704, 614125, 636056, 681472, 729000, 778688, 830584, 857375, 884736, 941192, 1000000]\n"
     ]
    }
   ],
   "source": [
    "l=[]\n",
    "i= 1\n",
    "while i>=1 and i<101:\n",
    "    l.append(i)\n",
    "    i += 1\n",
    "l1=[]\n",
    "for i in l:\n",
    "    l1.append(i**3)\n",
    "\n",
    "l2=[]\n",
    "for i in l1:\n",
    "    if i%4==0 or i%5==0:\n",
    "        l2.append(i)\n",
    "\n",
    "print (l2)"
   ]
  },
  {
   "cell_type": "code",
   "execution_count": 5,
   "id": "f1ae9f64-8495-482c-b2d2-eab3bfdc2e04",
   "metadata": {},
   "outputs": [
    {
     "data": {
      "text/plain": [
       "' Ques 5. Write a program to filter count vowels in the below-given string.\\n\\nstring = \"I want to become a data scientist\" '"
      ]
     },
     "execution_count": 5,
     "metadata": {},
     "output_type": "execute_result"
    }
   ],
   "source": [
    "''' Ques 5. Write a program to filter count vowels in the below-given string.\n",
    "\n",
    "string = \"I want to become a data scientist\" '''"
   ]
  },
  {
   "cell_type": "code",
   "execution_count": 15,
   "id": "7bfe8d26-257f-4970-9e4f-99a6a1095088",
   "metadata": {},
   "outputs": [
    {
     "name": "stdout",
     "output_type": "stream",
     "text": [
      "vowels are  12\n"
     ]
    }
   ],
   "source": [
    "string = (\"I want to become a data scientist\")\n",
    "string = str.lower(string)\n",
    "string= list(string)\n",
    "vowels = [\"a\", \"e\", \"i\", \"o\", \"u\"]\n",
    "count= 0\n",
    "for i in string:\n",
    "    if i== i in vowels:\n",
    "        count= count +1\n",
    "    \n",
    "print (\"vowels are \", count)"
   ]
  },
  {
   "cell_type": "code",
   "execution_count": null,
   "id": "7981b1c8-0f51-4dc4-9fb9-8916d56f1a69",
   "metadata": {},
   "outputs": [],
   "source": []
  }
 ],
 "metadata": {
  "kernelspec": {
   "display_name": "Python 3 (ipykernel)",
   "language": "python",
   "name": "python3"
  },
  "language_info": {
   "codemirror_mode": {
    "name": "ipython",
    "version": 3
   },
   "file_extension": ".py",
   "mimetype": "text/x-python",
   "name": "python",
   "nbconvert_exporter": "python",
   "pygments_lexer": "ipython3",
   "version": "3.10.8"
  }
 },
 "nbformat": 4,
 "nbformat_minor": 5
}
